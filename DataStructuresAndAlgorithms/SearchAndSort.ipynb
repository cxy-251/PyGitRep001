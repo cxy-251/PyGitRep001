{
 "cells": [
  {
   "cell_type": "markdown",
   "metadata": {},
   "source": [
    "## 查找与排序"
   ]
  },
  {
   "cell_type": "markdown",
   "metadata": {},
   "source": [
    "### 顺序查找\n",
    "![](img/2024-10-01-13-56-27.png)"
   ]
  },
  {
   "cell_type": "code",
   "execution_count": 1,
   "metadata": {},
   "outputs": [
    {
     "name": "stdout",
     "output_type": "stream",
     "text": [
      "元素 4 在索引 3 处\n"
     ]
    }
   ],
   "source": [
    "def sequential_search(arr, target):\n",
    "    for i in range(len(arr)):\n",
    "        if arr[i] == target:\n",
    "            return i  # 找到目标值，返回下标\n",
    "    return -1  # 查找失败，返回 -1\n",
    "\n",
    "\n",
    "arr = [5, 3, 8, 4, 2, 7, 9]\n",
    "target = 4\n",
    "result = sequential_search(arr, target)\n",
    "if result != -1:\n",
    "    print(f\"元素 {target} 在索引 {result} 处\")\n",
    "else:\n",
    "    print(f\"元素 {target} 不存在\")\n"
   ]
  },
  {
   "cell_type": "markdown",
   "metadata": {},
   "source": [
    "![](img/2024-10-01-13-57-08.png)"
   ]
  },
  {
   "cell_type": "markdown",
   "metadata": {},
   "source": [
    "### 二分查找\n",
    "![](img/2024-10-01-13-58-50.png)"
   ]
  },
  {
   "cell_type": "code",
   "execution_count": 2,
   "metadata": {},
   "outputs": [
    {
     "name": "stdout",
     "output_type": "stream",
     "text": [
      "元素 7 在索引 3 处\n"
     ]
    }
   ],
   "source": [
    "def binary_search(arr, target):\n",
    "    low = 0\n",
    "    high = len(arr) - 1\n",
    "\n",
    "    while low <= high:\n",
    "        mid = low + (high - low) // 2  # 防止大数相加导致溢出\n",
    "        if arr[mid] == target:\n",
    "            return mid  # 找到目标值，返回下标\n",
    "        elif arr[mid] < target:\n",
    "            low = mid + 1  # 在右半部分继续查找\n",
    "        else:\n",
    "            high = mid - 1  # 在左半部分继续查找\n",
    "    \n",
    "    return -1  # 未找到，返回 -1\n",
    "\n",
    "\n",
    "arr = [1, 3, 5, 7, 9, 11, 13]\n",
    "target = 7\n",
    "result = binary_search(arr, target)\n",
    "if result != -1:\n",
    "    print(f\"元素 {target} 在索引 {result} 处\")\n",
    "else:\n",
    "    print(f\"元素 {target} 不存在\")\n"
   ]
  },
  {
   "cell_type": "markdown",
   "metadata": {},
   "source": [
    "![](img/2024-10-01-14-00-04.png)\n",
    "![](img/2024-10-01-14-00-29.png)"
   ]
  },
  {
   "cell_type": "markdown",
   "metadata": {},
   "source": [
    "### 插值查找算法\n",
    "![](img/2024-10-01-14-02-23.png)"
   ]
  },
  {
   "cell_type": "code",
   "execution_count": 3,
   "metadata": {},
   "outputs": [
    {
     "name": "stdout",
     "output_type": "stream",
     "text": [
      "元素 70 在索引 6 处\n"
     ]
    }
   ],
   "source": [
    "def interpolation_search(arr, target):\n",
    "    low = 0\n",
    "    high = len(arr) - 1\n",
    "\n",
    "    while low <= high and arr[low] <= target <= arr[high]:\n",
    "        if low == high:\n",
    "            if arr[low] == target:\n",
    "                return low\n",
    "            return -1\n",
    "        \n",
    "        # 估计目标值位置\n",
    "        pos = low + (target - arr[low]) * (high - low) // (arr[high] - arr[low])\n",
    "        \n",
    "        if arr[pos] == target:\n",
    "            return pos  # 找到目标值\n",
    "        elif arr[pos] < target:\n",
    "            low = pos + 1  # 向右移动\n",
    "        else:\n",
    "            high = pos - 1  # 向左移动\n",
    "    \n",
    "    return -1  # 没有找到\n",
    "\n",
    "\n",
    "arr = [10, 20, 30, 40, 50, 60, 70, 80, 90]\n",
    "target = 70\n",
    "result = interpolation_search(arr, target)\n",
    "if result != -1:\n",
    "    print(f\"元素 {target} 在索引 {result} 处\")\n",
    "else:\n",
    "    print(f\"元素 {target} 不存在\")\n"
   ]
  },
  {
   "cell_type": "markdown",
   "metadata": {},
   "source": [
    "![](img/2024-10-01-14-04-56.png)\n",
    "![](img/2024-10-01-14-05-31.png)"
   ]
  },
  {
   "cell_type": "markdown",
   "metadata": {},
   "source": [
    "### 斐波那契查找算法\n",
    "![](img/2024-10-01-14-07-16.png)"
   ]
  },
  {
   "cell_type": "code",
   "execution_count": null,
   "metadata": {},
   "outputs": [],
   "source": [
    "def fibonacci_search(arr, target):\n",
    "    n = len(arr)\n",
    "\n",
    "    # 初始化斐波那契数\n",
    "    fibM2 = 0  # (k-2)'th Fibonacci number\n",
    "    fibM1 = 1  # (k-1)'th Fibonacci number\n",
    "    fibM = fibM2 + fibM1  # k'th Fibonacci number\n",
    "\n",
    "    # 找到斐波那契数列中最小的 F[k]，使得 F[k] >= n\n",
    "    while fibM < n:\n",
    "        fibM2 = fibM1\n",
    "        fibM1 = fibM\n",
    "        fibM = fibM1 + fibM2\n",
    "\n",
    "    offset = -1  # 初始化偏移量\n",
    "\n",
    "    while fibM > 1:\n",
    "        # 找到检查点 i\n",
    "        i = min(offset + fibM2, n-1)\n",
    "\n",
    "        # 如果 target 大于 arr[i]，继续在右侧查找\n",
    "        if arr[i] < target:\n",
    "            fibM = fibM1\n",
    "            fibM1 = fibM2\n",
    "            fibM2 = fibM - fibM1\n",
    "            offset = i\n",
    "        # 如果 target 小于 arr[i]，继续在左侧查找\n",
    "        elif arr[i] > target:\n",
    "            fibM = fibM2\n",
    "            fibM1 = fibM1 - fibM2\n",
    "            fibM2 = fibM - fibM1\n",
    "        # 找到目标值\n",
    "        else:\n",
    "            return i\n",
    "\n",
    "    # 如果有最后一个元素，检查它是否为目标值\n",
    "    if fibM1 and offset + 1 < n and arr[offset + 1] == target:\n",
    "        return offset + 1\n",
    "\n",
    "    # 未找到目标值\n",
    "    return -1\n",
    "\n",
    "\n",
    "arr = [10, 22, 35, 40, 45, 50, 80, 82, 85, 90, 100]\n",
    "target = 85\n",
    "result = fibonacci_search(arr, target)\n",
    "if result != -1:\n",
    "    print(f\"元素 {target} 在索引 {result} 处\")\n",
    "else:\n",
    "    print(f\"元素 {target} 不存在\")\n"
   ]
  },
  {
   "cell_type": "markdown",
   "metadata": {},
   "source": [
    "![](img/2024-10-01-14-07-58.png)\n",
    "![](img/2024-10-01-14-08-17.png)"
   ]
  },
  {
   "cell_type": "markdown",
   "metadata": {},
   "source": [
    "以下是一些常见的查找算法的列表，包括它们的时间复杂度、空间复杂度，以及适用场景的简要说明：\n",
    "\n",
    "| **查找算法**       | **时间复杂度**                  | **空间复杂度**  | **适用场景**                                                                                         |\n",
    "|--------------------|----------------------------------|-----------------|------------------------------------------------------------------------------------------------------|\n",
    "| **顺序查找**        | \\( O(n) \\)                      | \\( O(1) \\)      | 适用于无序或小型数据集，逐个扫描元素。                                                              |\n",
    "| **二分查找**        | \\( O(\\log n) \\)                 | \\( O(1) \\)      | 适用于有序数组，效率高，常用于基础的有序查找问题。                                                    |\n",
    "| **插值查找**        | \\( O(\\log \\log n) \\) 最坏 \\( O(n) \\)| \\( O(1) \\)      | 适用于有序且均匀分布的数据，性能优于二分查找，但在非均匀分布时表现较差。                                |\n",
    "| **斐波那契查找**    | \\( O(\\log n) \\)                 | \\( O(1) \\)      | 适用于有序数组，与二分查找相似，在某些情况下分割方式更有利。                                          |\n",
    "| **跳跃表查找**      | \\( O(\\log n) \\)                 | \\( O(n) \\)      | 适用于动态更新和快速查找，广泛用于数据库和缓存系统。                                                  |\n",
    "| **哈希查找**        | \\( O(1) \\) 最坏 \\( O(n) \\)      | \\( O(n) \\)      | 适用于快速查找，特别是无序集合中。哈希表的应用广泛，但需要处理冲突。                                  |\n",
    "| **分块查找**        | \\( O(\\sqrt{n}) \\)               | \\( O(\\sqrt{n}) \\)| 适用于较大的有序数组，将数组分块处理，每块使用顺序查找。                                              |\n",
    "| **指数查找**        | \\( O(\\log n) \\)                 | \\( O(1) \\)      | 适用于非常大的有序数组，适合搜索无穷序列，特别是结合二分查找使用。                                      |\n",
    "| **B树/B+树查找**    | \\( O(\\log n) \\)                 | \\( O(n) \\)      | 用于文件系统和数据库索引，适合高效的动态查找、插入和删除操作。                                         |\n",
    "| **红黑树查找**      | \\( O(\\log n) \\)                 | \\( O(n) \\)      | 适用于动态数据结构，保持平衡，适合需要频繁插入、删除和查找的场景。                                      |\n",
    "| **AVL树查找**       | \\( O(\\log n) \\)                 | \\( O(n) \\)      | 动态数据结构，严格平衡，适合频繁的查找操作，但插入和删除的调整代价较高。                                |\n",
    "| **平衡查找树**      | \\( O(\\log n) \\)                 | \\( O(n) \\)      | 适用于自平衡的树结构，比如数据库和文件系统中的多维查找。                                               |\n",
    "| **三叉搜索树（TST）**| \\( O(\\log n) \\)                 | \\( O(n) \\)      | 适用于字符串查找，特别是在自动补全和拼写检查等应用中。                                                 |\n",
    "| **前缀树（Trie）**   | \\( O(k) \\) \\( k \\)为键长度       | \\( O(n \\cdot k) \\)| 适用于字符串查找和处理，尤其是需要快速查找公共前缀的应用，如字典树、词汇查找。                         |\n",
    "| **广度优先搜索（BFS）** | \\( O(b^d) \\)                 | \\( O(b^d) \\)    | 用于图中的查找，适合在非加权图中查找最短路径，或在层次遍历中。                                          |\n",
    "| **深度优先搜索（DFS）** | \\( O(|V| + |E|) \\)           | \\( O(|V|) \\)    | 用于图中的查找，适合路径查找和连通性分析。                                                           |\n",
    "| **A*算法**           | \\( O(|E|) \\)                   | \\( O(|V|) \\)    | 适用于加权图中的最优路径查找，广泛用于路径规划、游戏开发和人工智能搜索。                                |\n",
    "| **Dijkstra算法**     | \\( O(|E| + |V| \\log |V|) \\)    | \\( O(|V|) \\)    | 适合用于有加权边的图，查找从一个顶点到其他顶点的最短路径，通常应用于路由和网络拓扑。                    |\n",
    "| **贝尔曼-福特算法**   | \\( O(|V| \\cdot |E|) \\)         | \\( O(|V|) \\)    | 适用于图中可能存在负权边的最短路径查找，适合在加权图中使用。                                           |\n",
    "| **邻近搜索（k-d树）**  | \\( O(\\log n) \\)               | \\( O(n) \\)      | 用于多维空间的最近邻查找，适合机器学习中的分类、聚类等问题。                                           |\n",
    "| **跳跃搜索**         | \\( O(\\sqrt{n}) \\)               | \\( O(1) \\)      | 适用于有序数组的查找，将数组分为块，快速查找目标块后线性查找。                                           |\n",
    "\n",
    "### 查找算法的扩展说明：\n",
    "\n",
    "1. **顺序查找**：最简单的查找算法，适用于小数据集，但在大型数据集上性能较差。\n",
    "2. **二分查找**：用于有序数组的高效查找，时间复杂度 \\( O(\\log n) \\)，适用于不频繁动态更新的数据集。\n",
    "3. **哈希查找**：用于无序数据集合的快速查找，时间复杂度 \\( O(1) \\)，但需要处理哈希冲突。\n",
    "4. **前缀树（Trie）**：特别适合字符串的查找，常用于字典、自动补全系统。\n",
    "5. **图搜索（DFS/BFS）**：用于图中的路径查找和遍历，BFS 适合最短路径查找，DFS 适合深度路径查找。\n",
    "6. **A*算法**：结合启发式搜索，在图中寻找最优路径，广泛用于游戏开发和导航系统。\n",
    "\n",
    "这些查找算法根据不同的数据结构、数据分布以及查找需求，有着各自的适用场景，选择合适的查找算法能够显著提升查找效率。"
   ]
  },
  {
   "cell_type": "markdown",
   "metadata": {},
   "source": [
    "### 冒泡排序\n",
    "![](img/2024-10-01-14-16-53.png)"
   ]
  },
  {
   "cell_type": "code",
   "execution_count": null,
   "metadata": {},
   "outputs": [],
   "source": [
    "def bubble_sort(arr):\n",
    "    n = len(arr)\n",
    "    # 外层循环控制轮数\n",
    "    for i in range(n):\n",
    "        # 内层循环进行相邻元素的比较与交换\n",
    "        # -i 是因为每轮后最后i个元素已经有序，不需要再比较\n",
    "        swapped = False  # 优化标记，减少不必要的比较\n",
    "        for j in range(0, n - i - 1):\n",
    "            # 如果前一个元素比后一个大，交换它们\n",
    "            if arr[j] > arr[j + 1]:\n",
    "                arr[j], arr[j + 1] = arr[j + 1], arr[j]\n",
    "                swapped = True\n",
    "        # 如果没有发生交换，说明已经有序，可以提前退出\n",
    "        if not swapped:\n",
    "            break\n",
    "    return arr\n"
   ]
  },
  {
   "cell_type": "markdown",
   "metadata": {},
   "source": [
    "![](img/2024-10-01-14-17-44.png)\n",
    "![](img/2024-10-01-14-18-02.png)\n",
    "![](img/2024-10-01-14-18-29.png)"
   ]
  },
  {
   "cell_type": "markdown",
   "metadata": {},
   "source": [
    "### 选择排序\n",
    "![](img/2024-10-01-14-20-19.png)"
   ]
  },
  {
   "cell_type": "code",
   "execution_count": null,
   "metadata": {},
   "outputs": [],
   "source": [
    "def selection_sort(arr):\n",
    "    n = len(arr)\n",
    "    for i in range(n):\n",
    "        # 假设当前第i个元素为最小值\n",
    "        min_index = i\n",
    "        # 在未排序的元素中寻找最小值\n",
    "        for j in range(i + 1, n):\n",
    "            if arr[j] < arr[min_index]:\n",
    "                min_index = j\n",
    "        # 交换第i个元素和最小值元素\n",
    "        arr[i], arr[min_index] = arr[min_index], arr[i]\n",
    "    return arr\n"
   ]
  },
  {
   "cell_type": "markdown",
   "metadata": {},
   "source": [
    "![](img/2024-10-01-14-20-42.png)\n",
    "![](img/2024-10-01-14-21-00.png)\n",
    "![](img/2024-10-01-14-21-32.png)"
   ]
  },
  {
   "cell_type": "markdown",
   "metadata": {},
   "source": [
    "### 插入排序\n",
    "![](img/2024-10-01-14-25-03.png)"
   ]
  },
  {
   "cell_type": "code",
   "execution_count": null,
   "metadata": {},
   "outputs": [],
   "source": [
    "def insertion_sort(arr):\n",
    "    # 从第二个元素开始，因为第一个元素已经有序\n",
    "    for i in range(1, len(arr)):\n",
    "        key = arr[i]\n",
    "        j = i - 1\n",
    "        \n",
    "        # 将当前元素与有序部分的元素从后向前比较，找到插入位置\n",
    "        while j >= 0 and key < arr[j]:\n",
    "            arr[j + 1] = arr[j]\n",
    "            j -= 1\n",
    "        # 插入元素\n",
    "        arr[j + 1] = key\n",
    "\n",
    "    return arr\n"
   ]
  },
  {
   "cell_type": "markdown",
   "metadata": {},
   "source": [
    "![](img/2024-10-01-14-25-33.png)\n",
    "![](img/2024-10-01-14-25-54.png)\n",
    "![](img/2024-10-01-14-26-08.png)"
   ]
  },
  {
   "cell_type": "markdown",
   "metadata": {},
   "source": [
    "### 希尔排序\n",
    "![](img/2024-10-01-14-29-26.png)"
   ]
  },
  {
   "cell_type": "code",
   "execution_count": null,
   "metadata": {},
   "outputs": [],
   "source": [
    "def shell_sort(arr):\n",
    "    n = len(arr)\n",
    "    gap = n // 2  # 初始间隔\n",
    "\n",
    "    # 不断缩小间隔\n",
    "    while gap > 0:\n",
    "        # 对每个间隔进行插入排序\n",
    "        for i in range(gap, n):\n",
    "            temp = arr[i]\n",
    "            j = i\n",
    "            # 将当前元素插入到前面对应间隔的有序子序列中\n",
    "            while j >= gap and arr[j - gap] > temp:\n",
    "                arr[j] = arr[j - gap]\n",
    "                j -= gap\n",
    "            arr[j] = temp\n",
    "        gap //= 2  # 缩小间隔\n",
    "\n",
    "    return arr\n"
   ]
  },
  {
   "cell_type": "markdown",
   "metadata": {},
   "source": [
    "![](img/2024-10-01-14-29-48.png)\n",
    "![](img/2024-10-01-14-30-29.png)"
   ]
  },
  {
   "cell_type": "markdown",
   "metadata": {},
   "source": [
    "### 归并排序\n",
    "![](img/2024-10-01-18-24-00.png)"
   ]
  },
  {
   "cell_type": "code",
   "execution_count": null,
   "metadata": {},
   "outputs": [],
   "source": [
    "def merge_sort(arr):\n",
    "    if len(arr) > 1:\n",
    "        mid = len(arr) // 2  # 找到中间索引\n",
    "        left_half = arr[:mid]  # 划分左半部分\n",
    "        right_half = arr[mid:]  # 划分右半部分\n",
    "\n",
    "        # 递归排序左半部分\n",
    "        merge_sort(left_half)\n",
    "        # 递归排序右半部分\n",
    "        merge_sort(right_half)\n",
    "\n",
    "        i = j = k = 0  # 初始化索引\n",
    "        # 合并两个子数组\n",
    "        while i < len(left_half) and j < len(right_half):\n",
    "            if left_half[i] < right_half[j]:\n",
    "                arr[k] = left_half[i]\n",
    "                i += 1\n",
    "            else:\n",
    "                arr[k] = right_half[j]\n",
    "                j += 1\n",
    "            k += 1\n",
    "\n",
    "        # 复制剩余元素\n",
    "        while i < len(left_half):\n",
    "            arr[k] = left_half[i]\n",
    "            i += 1\n",
    "            k += 1\n",
    "\n",
    "        while j < len(right_half):\n",
    "            arr[k] = right_half[j]\n",
    "            j += 1\n",
    "            k += 1\n",
    "\n",
    "    return arr\n"
   ]
  },
  {
   "cell_type": "markdown",
   "metadata": {},
   "source": [
    "![](img/2024-10-01-18-27-38.png)\n",
    "![](img/2024-10-01-18-27-51.png)"
   ]
  },
  {
   "cell_type": "markdown",
   "metadata": {},
   "source": [
    "### 快速排序\n",
    "![](img/2024-10-01-18-30-46.png)"
   ]
  },
  {
   "cell_type": "code",
   "execution_count": null,
   "metadata": {},
   "outputs": [],
   "source": [
    "def quick_sort(arr):\n",
    "    if len(arr) <= 1:\n",
    "        return arr\n",
    "    else:\n",
    "        pivot = arr[len(arr) // 2]  # 选择中间的元素作为基准\n",
    "        left = [x for x in arr if x < pivot]  # 小于基准值的元素\n",
    "        middle = [x for x in arr if x == pivot]  # 等于基准值的元素\n",
    "        right = [x for x in arr if x > pivot]  # 大于基准值的元素\n",
    "        return quick_sort(left) + middle + quick_sort(right)\n"
   ]
  },
  {
   "cell_type": "markdown",
   "metadata": {},
   "source": [
    "![](img/2024-10-01-18-31-28.png)\n",
    "![](img/2024-10-01-18-31-56.png)\n",
    "![](img/2024-10-01-18-32-11.png)"
   ]
  }
 ],
 "metadata": {
  "kernelspec": {
   "display_name": "base",
   "language": "python",
   "name": "python3"
  },
  "language_info": {
   "codemirror_mode": {
    "name": "ipython",
    "version": 3
   },
   "file_extension": ".py",
   "mimetype": "text/x-python",
   "name": "python",
   "nbconvert_exporter": "python",
   "pygments_lexer": "ipython3",
   "version": "3.10.9"
  }
 },
 "nbformat": 4,
 "nbformat_minor": 2
}
