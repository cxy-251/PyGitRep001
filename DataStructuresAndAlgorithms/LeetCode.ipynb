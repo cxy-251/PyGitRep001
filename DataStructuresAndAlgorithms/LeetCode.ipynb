{
 "cells": [
  {
   "cell_type": "markdown",
   "metadata": {},
   "source": [
    "# 一、双指针"
   ]
  },
  {
   "cell_type": "markdown",
   "metadata": {},
   "source": [
    "## 647.回文子串\n",
    "![](img/2024-09-14-01-17-18.png)"
   ]
  },
  {
   "cell_type": "markdown",
   "metadata": {},
   "source": [
    "![](img/2024-09-14-01-19-58.png)"
   ]
  },
  {
   "cell_type": "code",
   "execution_count": 5,
   "metadata": {},
   "outputs": [
    {
     "name": "stdout",
     "output_type": "stream",
     "text": [
      "3\n",
      "6\n"
     ]
    }
   ],
   "source": [
    "def countSubstrings(s: str) -> int:\n",
    "    def expandAroundCenter(s, left, right):\n",
    "        count = 0\n",
    "        while left >= 0 and right < len(s) and s[left] == s[right]:\n",
    "            count += 1\n",
    "            left -= 1\n",
    "            right += 1\n",
    "        return count\n",
    "\n",
    "    count = 0\n",
    "    for i in range(len(s)):\n",
    "        # 奇数长度的回文串\n",
    "        count += expandAroundCenter(s, i, i)\n",
    "        # 偶数长度的回文串\n",
    "        count += expandAroundCenter(s, i, i + 1)\n",
    "\n",
    "    return count\n",
    "\n",
    "print(countSubstrings(\"abc\"))  # 输出: 3\n",
    "print(countSubstrings(\"aaa\"))  # 输出: 6\n"
   ]
  },
  {
   "cell_type": "markdown",
   "metadata": {},
   "source": [
    "![](img/2024-09-14-01-19-26.png)"
   ]
  },
  {
   "cell_type": "code",
   "execution_count": 6,
   "metadata": {},
   "outputs": [
    {
     "name": "stdout",
     "output_type": "stream",
     "text": [
      "3\n",
      "6\n"
     ]
    }
   ],
   "source": [
    "def countSubstrings(s: str) -> int:\n",
    "    n = len(s)\n",
    "    # 初始化 dp 数组\n",
    "    dp = [[False] * n for _ in range(n)]\n",
    "    count = 0\n",
    "\n",
    "    # 遍历所有子串的右端点 j\n",
    "    for j in range(n):\n",
    "        for i in range(j + 1):\n",
    "            if s[i] == s[j] and (j - i <= 2 or dp[i + 1][j - 1]):\n",
    "                dp[i][j] = True\n",
    "                count += 1\n",
    "\n",
    "    return count\n",
    "\n",
    "print(countSubstrings(\"abc\"))  # 输出: 3\n",
    "print(countSubstrings(\"aaa\"))  # 输出: 6\n"
   ]
  },
  {
   "cell_type": "markdown",
   "metadata": {},
   "source": [
    "## LCR 007.三数之和"
   ]
  },
  {
   "cell_type": "markdown",
   "metadata": {},
   "source": [
    "![](img/2024-09-14-01-22-00.png)"
   ]
  },
  {
   "cell_type": "markdown",
   "metadata": {},
   "source": [
    "![](img/2024-09-14-01-22-40.png)"
   ]
  },
  {
   "cell_type": "code",
   "execution_count": 7,
   "metadata": {},
   "outputs": [
    {
     "name": "stdout",
     "output_type": "stream",
     "text": [
      "[[-1, -1, 2], [-1, 0, 1]]\n"
     ]
    }
   ],
   "source": [
    "def threeSum(nums):\n",
    "    res = []\n",
    "    nums.sort()  # 先排序\n",
    "    n = len(nums)\n",
    "    \n",
    "    for i in range(n):\n",
    "        # 如果当前数字大于0，则后面的数字都大于0，不可能再有三数之和为0\n",
    "        if nums[i] > 0:\n",
    "            break\n",
    "        # 跳过重复的元素\n",
    "        if i > 0 and nums[i] == nums[i-1]:\n",
    "            continue\n",
    "        \n",
    "        # 使用双指针查找剩下的两个数\n",
    "        left, right = i + 1, n - 1\n",
    "        while left < right:\n",
    "            total = nums[i] + nums[left] + nums[right]\n",
    "            if total == 0:\n",
    "                res.append([nums[i], nums[left], nums[right]])\n",
    "                # 跳过重复的元素\n",
    "                while left < right and nums[left] == nums[left + 1]:\n",
    "                    left += 1\n",
    "                while left < right and nums[right] == nums[right - 1]:\n",
    "                    right -= 1\n",
    "                # 移动双指针\n",
    "                left += 1\n",
    "                right -= 1\n",
    "            elif total < 0:\n",
    "                left += 1\n",
    "            else:\n",
    "                right -= 1\n",
    "    \n",
    "    return res\n",
    "\n",
    "nums = [-1, 0, 1, 2, -1, -4]\n",
    "print(threeSum(nums))\n",
    "# 输出: [[-1, -1, 2], [-1, 0, 1]]"
   ]
  },
  {
   "cell_type": "markdown",
   "metadata": {},
   "source": [
    "![](img/2024-09-14-01-24-46.png)\n",
    "![](img/2024-09-14-01-24-59.png)\n",
    "![](img/2024-09-14-01-25-35.png)"
   ]
  },
  {
   "cell_type": "markdown",
   "metadata": {},
   "source": [
    "## 面试题 17.21.直方图的水量"
   ]
  },
  {
   "cell_type": "markdown",
   "metadata": {},
   "source": [
    "![](img/2024-09-14-01-27-41.png)"
   ]
  },
  {
   "cell_type": "markdown",
   "metadata": {},
   "source": [
    "![](img/2024-09-14-01-28-08.png)"
   ]
  },
  {
   "cell_type": "code",
   "execution_count": 8,
   "metadata": {},
   "outputs": [
    {
     "data": {
      "text/plain": [
       "6"
      ]
     },
     "execution_count": 8,
     "metadata": {},
     "output_type": "execute_result"
    }
   ],
   "source": [
    "def trap(height):\n",
    "    if not height:\n",
    "        return 0\n",
    "\n",
    "    left, right = 0, len(height) - 1\n",
    "    left_max, right_max = height[left], height[right]\n",
    "    water_trapped = 0\n",
    "\n",
    "    while left < right:\n",
    "        if left_max <= right_max:\n",
    "            left += 1\n",
    "            left_max = max(left_max, height[left])\n",
    "            water_trapped += left_max - height[left]\n",
    "        else:\n",
    "            right -= 1\n",
    "            right_max = max(right_max, height[right])\n",
    "            water_trapped += right_max - height[right]\n",
    "\n",
    "    return water_trapped\n",
    "\n",
    "height = [0,1,0,2,1,0,1,3,2,1,2,1]\n",
    "trap(height)\n"
   ]
  },
  {
   "cell_type": "markdown",
   "metadata": {},
   "source": [
    "![](img/2024-09-14-01-28-37.png)"
   ]
  },
  {
   "cell_type": "code",
   "execution_count": 9,
   "metadata": {},
   "outputs": [
    {
     "data": {
      "text/plain": [
       "6"
      ]
     },
     "execution_count": 9,
     "metadata": {},
     "output_type": "execute_result"
    }
   ],
   "source": [
    "def trap(height):\n",
    "    if not height:\n",
    "        return 0\n",
    "\n",
    "    n = len(height)\n",
    "    left_max = [0] * n\n",
    "    right_max = [0] * n\n",
    "    water_trapped = 0\n",
    "\n",
    "    # 计算每个柱子的左边最大高度\n",
    "    left_max[0] = height[0]\n",
    "    for i in range(1, n):\n",
    "        left_max[i] = max(left_max[i - 1], height[i])\n",
    "\n",
    "    # 计算每个柱子的右边最大高度\n",
    "    right_max[n - 1] = height[n - 1]\n",
    "    for i in range(n - 2, -1, -1):\n",
    "        right_max[i] = max(right_max[i + 1], height[i])\n",
    "\n",
    "    # 计算水量\n",
    "    for i in range(n):\n",
    "        water_trapped += min(left_max[i], right_max[i]) - height[i]\n",
    "\n",
    "    return water_trapped\n",
    "\n",
    "height = [0,1,0,2,1,0,1,3,2,1,2,1]\n",
    "trap(height)\n"
   ]
  },
  {
   "cell_type": "markdown",
   "metadata": {},
   "source": [
    "# 二、"
   ]
  },
  {
   "cell_type": "code",
   "execution_count": null,
   "metadata": {},
   "outputs": [],
   "source": []
  }
 ],
 "metadata": {
  "kernelspec": {
   "display_name": "base",
   "language": "python",
   "name": "python3"
  },
  "language_info": {
   "codemirror_mode": {
    "name": "ipython",
    "version": 3
   },
   "file_extension": ".py",
   "mimetype": "text/x-python",
   "name": "python",
   "nbconvert_exporter": "python",
   "pygments_lexer": "ipython3",
   "version": "3.10.9"
  }
 },
 "nbformat": 4,
 "nbformat_minor": 2
}
