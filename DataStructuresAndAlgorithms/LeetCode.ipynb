{
 "cells": [
  {
   "cell_type": "markdown",
   "metadata": {},
   "source": [
    "# 一、双指针"
   ]
  },
  {
   "cell_type": "markdown",
   "metadata": {},
   "source": [
    "## 647.回文子串\n",
    "![](img/2024-09-14-01-17-18.png)"
   ]
  },
  {
   "cell_type": "markdown",
   "metadata": {},
   "source": [
    "![](img/2024-09-14-01-19-58.png)"
   ]
  },
  {
   "cell_type": "code",
   "execution_count": 3,
   "metadata": {},
   "outputs": [
    {
     "name": "stdout",
     "output_type": "stream",
     "text": [
      "3\n",
      "6\n"
     ]
    }
   ],
   "source": [
    "def countSubstrings(s: str) -> int:\n",
    "    def expandAroundCenter(s, left, right):\n",
    "        count = 0\n",
    "        while left >= 0 and right < len(s) and s[left] == s[right]:\n",
    "            count += 1\n",
    "            left -= 1\n",
    "            right += 1\n",
    "        return count\n",
    "\n",
    "    count = 0\n",
    "    for i in range(len(s)):\n",
    "        # 奇数长度的回文串\n",
    "        count += expandAroundCenter(s, i, i)\n",
    "        # 偶数长度的回文串\n",
    "        count += expandAroundCenter(s, i, i + 1)\n",
    "\n",
    "    return count\n",
    "\n",
    "print(countSubstrings(\"abc\"))  # 输出: 3\n",
    "print(countSubstrings(\"aaa\"))  # 输出: 6\n"
   ]
  },
  {
   "cell_type": "markdown",
   "metadata": {},
   "source": [
    "![](img/2024-09-14-01-19-26.png)"
   ]
  },
  {
   "cell_type": "code",
   "execution_count": 4,
   "metadata": {},
   "outputs": [
    {
     "name": "stdout",
     "output_type": "stream",
     "text": [
      "3\n",
      "6\n"
     ]
    }
   ],
   "source": [
    "def countSubstrings(s: str) -> int:\n",
    "    n = len(s)\n",
    "    # 初始化 dp 数组\n",
    "    dp = [[False] * n for _ in range(n)]\n",
    "    count = 0\n",
    "\n",
    "    # 遍历所有子串的右端点 j\n",
    "    for j in range(n):\n",
    "        for i in range(j + 1):\n",
    "            if s[i] == s[j] and (j - i <= 2 or dp[i + 1][j - 1]):\n",
    "                dp[i][j] = True\n",
    "                count += 1\n",
    "\n",
    "    return count\n",
    "\n",
    "print(countSubstrings(\"abc\"))  # 输出: 3\n",
    "print(countSubstrings(\"aaa\"))  # 输出: 6\n"
   ]
  },
  {
   "cell_type": "markdown",
   "metadata": {},
   "source": [
    "## LCR 007.三数之和"
   ]
  },
  {
   "cell_type": "markdown",
   "metadata": {},
   "source": [
    "![](img/2024-09-14-01-22-00.png)"
   ]
  },
  {
   "cell_type": "markdown",
   "metadata": {},
   "source": [
    "![](img/2024-09-14-01-22-40.png)"
   ]
  },
  {
   "cell_type": "code",
   "execution_count": 5,
   "metadata": {},
   "outputs": [
    {
     "name": "stdout",
     "output_type": "stream",
     "text": [
      "[[-1, -1, 2], [-1, 0, 1]]\n"
     ]
    }
   ],
   "source": [
    "def threeSum(nums):\n",
    "    res = []\n",
    "    nums.sort()  # 先排序\n",
    "    n = len(nums)\n",
    "    \n",
    "    for i in range(n):\n",
    "        # 如果当前数字大于0，则后面的数字都大于0，不可能再有三数之和为0\n",
    "        if nums[i] > 0:\n",
    "            break\n",
    "        # 跳过重复的元素\n",
    "        if i > 0 and nums[i] == nums[i-1]:\n",
    "            continue\n",
    "        \n",
    "        # 使用双指针查找剩下的两个数\n",
    "        left, right = i + 1, n - 1\n",
    "        while left < right:\n",
    "            total = nums[i] + nums[left] + nums[right]\n",
    "            if total == 0:\n",
    "                res.append([nums[i], nums[left], nums[right]])\n",
    "                # 跳过重复的元素\n",
    "                while left < right and nums[left] == nums[left + 1]:\n",
    "                    left += 1\n",
    "                while left < right and nums[right] == nums[right - 1]:\n",
    "                    right -= 1\n",
    "                # 移动双指针\n",
    "                left += 1\n",
    "                right -= 1\n",
    "            elif total < 0:\n",
    "                left += 1\n",
    "            else:\n",
    "                right -= 1\n",
    "    \n",
    "    return res\n",
    "\n",
    "nums = [-1, 0, 1, 2, -1, -4]\n",
    "print(threeSum(nums))\n",
    "# 输出: [[-1, -1, 2], [-1, 0, 1]]"
   ]
  },
  {
   "cell_type": "markdown",
   "metadata": {},
   "source": [
    "![](img/2024-09-14-01-24-46.png)\n",
    "![](img/2024-09-14-01-24-59.png)\n",
    "![](img/2024-09-14-01-25-35.png)"
   ]
  },
  {
   "cell_type": "markdown",
   "metadata": {},
   "source": [
    "## 面试题 17.21.直方图的水量"
   ]
  },
  {
   "cell_type": "markdown",
   "metadata": {},
   "source": [
    "![](img/2024-09-14-01-27-41.png)"
   ]
  },
  {
   "cell_type": "markdown",
   "metadata": {},
   "source": [
    "![](img/2024-09-14-01-28-08.png)"
   ]
  },
  {
   "cell_type": "code",
   "execution_count": 6,
   "metadata": {},
   "outputs": [
    {
     "data": {
      "text/plain": [
       "6"
      ]
     },
     "execution_count": 6,
     "metadata": {},
     "output_type": "execute_result"
    }
   ],
   "source": [
    "def trap(height):\n",
    "    if not height:\n",
    "        return 0\n",
    "\n",
    "    left, right = 0, len(height) - 1\n",
    "    left_max, right_max = height[left], height[right]\n",
    "    water_trapped = 0\n",
    "\n",
    "    while left < right:\n",
    "        if left_max <= right_max:\n",
    "            left += 1\n",
    "            left_max = max(left_max, height[left])\n",
    "            water_trapped += left_max - height[left]\n",
    "        else:\n",
    "            right -= 1\n",
    "            right_max = max(right_max, height[right])\n",
    "            water_trapped += right_max - height[right]\n",
    "\n",
    "    return water_trapped\n",
    "\n",
    "height = [0,1,0,2,1,0,1,3,2,1,2,1]\n",
    "trap(height)\n"
   ]
  },
  {
   "cell_type": "markdown",
   "metadata": {},
   "source": [
    "![](img/2024-09-14-01-28-37.png)"
   ]
  },
  {
   "cell_type": "code",
   "execution_count": 7,
   "metadata": {},
   "outputs": [
    {
     "data": {
      "text/plain": [
       "6"
      ]
     },
     "execution_count": 7,
     "metadata": {},
     "output_type": "execute_result"
    }
   ],
   "source": [
    "def trap(height):\n",
    "    if not height:\n",
    "        return 0\n",
    "\n",
    "    n = len(height)\n",
    "    left_max = [0] * n\n",
    "    right_max = [0] * n\n",
    "    water_trapped = 0\n",
    "\n",
    "    # 计算每个柱子的左边最大高度\n",
    "    left_max[0] = height[0]\n",
    "    for i in range(1, n):\n",
    "        left_max[i] = max(left_max[i - 1], height[i])\n",
    "\n",
    "    # 计算每个柱子的右边最大高度\n",
    "    right_max[n - 1] = height[n - 1]\n",
    "    for i in range(n - 2, -1, -1):\n",
    "        right_max[i] = max(right_max[i + 1], height[i])\n",
    "\n",
    "    # 计算水量\n",
    "    for i in range(n):\n",
    "        water_trapped += min(left_max[i], right_max[i]) - height[i]\n",
    "\n",
    "    return water_trapped\n",
    "\n",
    "height = [0,1,0,2,1,0,1,3,2,1,2,1]\n",
    "trap(height)\n"
   ]
  },
  {
   "cell_type": "markdown",
   "metadata": {},
   "source": [
    "# 二、BFS、DFS搜索"
   ]
  },
  {
   "cell_type": "markdown",
   "metadata": {},
   "source": [
    "## 994. 腐烂的橘子\n",
    "![](img/2024-09-20-00-37-23.png)"
   ]
  },
  {
   "cell_type": "markdown",
   "metadata": {},
   "source": [
    "![](img/2024-09-20-00-39-56.png)"
   ]
  },
  {
   "cell_type": "code",
   "execution_count": 8,
   "metadata": {},
   "outputs": [
    {
     "data": {
      "text/plain": [
       "4"
      ]
     },
     "execution_count": 8,
     "metadata": {},
     "output_type": "execute_result"
    }
   ],
   "source": [
    "from collections import deque\n",
    "\n",
    "def orangesRotting(grid):\n",
    "    # 获取网格的大小\n",
    "    rows, cols = len(grid), len(grid[0])\n",
    "    \n",
    "    # 用来存放腐烂橘子的位置 (i, j)\n",
    "    rotten = deque()\n",
    "    fresh_oranges = 0  # 记录新鲜橘子的数量\n",
    "\n",
    "    # 初始化，找到所有腐烂橘子，统计新鲜橘子的数量\n",
    "    for i in range(rows):\n",
    "        for j in range(cols):\n",
    "            if grid[i][j] == 2:\n",
    "                rotten.append((i, j))\n",
    "            elif grid[i][j] == 1:\n",
    "                fresh_oranges += 1\n",
    "\n",
    "    # 如果没有新鲜橘子，直接返回 0\n",
    "    if fresh_oranges == 0:\n",
    "        return 0\n",
    "\n",
    "    # 定义四个方向的向量 (上、下、左、右)\n",
    "    directions = [(0, 1), (0, -1), (1, 0), (-1, 0)]\n",
    "    \n",
    "    minutes = 0\n",
    "\n",
    "    # BFS 扩散\n",
    "    while rotten:\n",
    "        # 每次扩展都表示一分钟的经过\n",
    "        minutes += 1\n",
    "        for _ in range(len(rotten)):\n",
    "            x, y = rotten.popleft()\n",
    "            # 向四个方向扩展\n",
    "            for dx, dy in directions:\n",
    "                nx, ny = x + dx, y + dy\n",
    "                # 如果相邻位置是新鲜橘子，腐烂它\n",
    "                if 0 <= nx < rows and 0 <= ny < cols and grid[nx][ny] == 1:\n",
    "                    grid[nx][ny] = 2  # 新鲜橘子变腐烂\n",
    "                    fresh_oranges -= 1  # 新鲜橘子减少\n",
    "                    rotten.append((nx, ny))  # 将新的腐烂橘子加入队列\n",
    "        \n",
    "        # 如果此时没有腐烂橘子且新鲜橘子还有剩余，说明无法全部腐烂\n",
    "        if not rotten and fresh_oranges > 0:\n",
    "            return -1\n",
    "    \n",
    "    # 如果全部新鲜橘子都腐烂，返回所需的分钟数（减1，因为最后一次扩展不需要）\n",
    "    return minutes - 1 if fresh_oranges == 0 else -1\n",
    "\n",
    "grid = [[2,1,1],\n",
    "        [1,1,0],\n",
    "        [0,1,1]]\n",
    "orangesRotting(grid)"
   ]
  },
  {
   "cell_type": "markdown",
   "metadata": {},
   "source": [
    "![](img/2024-09-20-00-41-12.png)\n",
    "![](img/2024-09-20-00-40-54.png)"
   ]
  },
  {
   "cell_type": "markdown",
   "metadata": {},
   "source": [
    "## 672. 灯泡开关 Ⅱ\n",
    "![](img/2024-09-20-00-39-01.png)"
   ]
  },
  {
   "cell_type": "markdown",
   "metadata": {},
   "source": [
    "![](img/2024-09-20-00-46-24.png)\n",
    "![](img/2024-09-20-00-46-40.png)"
   ]
  },
  {
   "cell_type": "code",
   "execution_count": 9,
   "metadata": {},
   "outputs": [
    {
     "name": "stdout",
     "output_type": "stream",
     "text": [
      "2\n",
      "3\n",
      "4\n"
     ]
    }
   ],
   "source": [
    "def flipLights(n, presses):\n",
    "    if presses == 0:\n",
    "        return 1\n",
    "    \n",
    "    if n == 1:\n",
    "        return 2 if presses >= 1 else 1\n",
    "    \n",
    "    if n == 2:\n",
    "        if presses == 1:\n",
    "            return 3\n",
    "        else:\n",
    "            return 4\n",
    "    \n",
    "    # n >= 3的情况\n",
    "    if presses == 1:\n",
    "        return 4\n",
    "    elif presses == 2:\n",
    "        return 7\n",
    "    else:\n",
    "        return 8\n",
    "\n",
    "# 示例测试\n",
    "print(flipLights(1, 1))  # 输出: 2\n",
    "print(flipLights(2, 1))  # 输出: 3\n",
    "print(flipLights(3, 1))  # 输出: 4\n"
   ]
  },
  {
   "cell_type": "markdown",
   "metadata": {},
   "source": [
    "![](img/2024-09-20-00-47-29.png)"
   ]
  },
  {
   "cell_type": "markdown",
   "metadata": {},
   "source": [
    "![](img/2024-09-20-00-49-26.png)"
   ]
  },
  {
   "cell_type": "code",
   "execution_count": 5,
   "metadata": {},
   "outputs": [
    {
     "name": "stdout",
     "output_type": "stream",
     "text": [
      "1\n",
      "3\n",
      "4\n",
      "3\n"
     ]
    }
   ],
   "source": [
    "from collections import deque\n",
    "\n",
    "def flipLights(n, presses):\n",
    "    if presses == 0:\n",
    "        return 1\n",
    "    \n",
    "    # 限制 n 不超过 3，因为前3个灯泡决定了所有的状态\n",
    "    n = min(n, 3)\n",
    "    \n",
    "    # 初始状态，所有灯泡都是开着的\n",
    "    initial_state = (1 << n) - 1  # 例如n=3时，初始状态是111（二进制），即7\n",
    "    \n",
    "    # 定义开关的效果，按下每个开关后灯泡的变化\n",
    "    switches = [\n",
    "        (1 << n) - 1,                    # 开关 1：反转所有灯泡\n",
    "        int('0101010101'[:n], 2),        # 开关 2：反转偶数编号灯泡\n",
    "        int('1010101010'[:n], 2),        # 开关 3：反转奇数编号灯泡\n",
    "        int('1001001001'[:n], 2)         # 开关 4：反转编号为 3k + 1 的灯泡\n",
    "    ]\n",
    "    \n",
    "    # 使用 BFS 来遍历所有可能的状态\n",
    "    queue = deque([(initial_state, 0)])  # 队列中的元素是 (当前状态, 已按压次数)\n",
    "    visited = {initial_state}            # 记录访问过的状态\n",
    "    \n",
    "    result = set()  # 记录所有可能的状态\n",
    "    \n",
    "    while queue:\n",
    "        state, press_count = queue.popleft()\n",
    "        \n",
    "        # 如果已经达到规定的按压次数，则保存状态\n",
    "        if press_count == presses:\n",
    "            result.add(state)\n",
    "            continue\n",
    "        \n",
    "        # 遍历每个开关，尝试按压\n",
    "        for switch in switches:\n",
    "            new_state = state ^ switch  # 按下开关，XOR运算翻转灯泡状态\n",
    "            if new_state not in visited:\n",
    "                visited.add(new_state)\n",
    "                queue.append((new_state, press_count + 1))\n",
    "    \n",
    "    # 返回不同状态的数量\n",
    "    return len(result)\n",
    "\n",
    "# 示例测试\n",
    "print(flipLights(1, 1))  # 输出: 2\n",
    "print(flipLights(2, 1))  # 输出: 3\n",
    "print(flipLights(3, 1))  # 输出: 4\n",
    "print(flipLights(3, 2))  # 输出: 7\n"
   ]
  },
  {
   "cell_type": "markdown",
   "metadata": {},
   "source": [
    "![](img/2024-09-20-00-49-57.png)"
   ]
  },
  {
   "cell_type": "code",
   "execution_count": 11,
   "metadata": {},
   "outputs": [
    {
     "name": "stdout",
     "output_type": "stream",
     "text": [
      "2\n",
      "3\n",
      "4\n",
      "7\n"
     ]
    }
   ],
   "source": [
    "# DFS 的实现类似于 BFS，不同的是使用递归进行深度优先遍历。核心逻辑是相同的，只是遍历顺序不同。\n",
    "def flipLightsDFS(n, presses):\n",
    "    if presses == 0:\n",
    "        return 1\n",
    "    \n",
    "    # 限制 n 不超过 3，因为前3个灯泡决定了所有的状态\n",
    "    n = min(n, 3)\n",
    "    \n",
    "    # 初始状态，所有灯泡都是开着的\n",
    "    initial_state = (1 << n) - 1  # 例如n=3时，初始状态是111（二进制），即7\n",
    "    \n",
    "    # 定义开关的效果，按下每个开关后灯泡的变化\n",
    "    switches = [\n",
    "        (1 << n) - 1,                    # 开关 1：反转所有灯泡\n",
    "        int('0101010101'[:n], 2),        # 开关 2：反转偶数编号灯泡\n",
    "        int('1010101010'[:n], 2),        # 开关 3：反转奇数编号灯泡\n",
    "        int('1001001001'[:n], 2)         # 开关 4：反转编号为 3k + 1 的灯泡\n",
    "    ]\n",
    "    \n",
    "    result = set()\n",
    "    visited = set()\n",
    "\n",
    "    def dfs(state, press_count):\n",
    "        if press_count == presses:\n",
    "            result.add(state)\n",
    "            return\n",
    "        for switch in switches:\n",
    "            new_state = state ^ switch\n",
    "            if (new_state, press_count + 1) not in visited:\n",
    "                visited.add((new_state, press_count + 1))\n",
    "                dfs(new_state, press_count + 1)\n",
    "    \n",
    "    dfs(initial_state, 0)\n",
    "    return len(result)\n",
    "\n",
    "# 示例测试\n",
    "print(flipLightsDFS(1, 1))  # 输出: 2\n",
    "print(flipLightsDFS(2, 1))  # 输出: 3\n",
    "print(flipLightsDFS(3, 1))  # 输出: 4\n",
    "print(flipLightsDFS(3, 2))  # 输出: 7\n"
   ]
  },
  {
   "cell_type": "markdown",
   "metadata": {},
   "source": [
    "![](img/2024-09-20-00-50-54.png)"
   ]
  },
  {
   "cell_type": "markdown",
   "metadata": {},
   "source": [
    "## 514. 自由之路\n",
    "![](img/2024-09-20-00-42-42.png)\n",
    "![](img/2024-09-20-00-42-52.png)\n",
    "![](img/2024-09-20-00-43-08.png)"
   ]
  },
  {
   "cell_type": "markdown",
   "metadata": {},
   "source": [
    "![](img/2024-09-20-00-53-19.png)\n",
    "![](img/2024-09-20-00-53-35.png)"
   ]
  },
  {
   "cell_type": "code",
   "execution_count": 12,
   "metadata": {},
   "outputs": [
    {
     "name": "stdout",
     "output_type": "stream",
     "text": [
      "4\n"
     ]
    }
   ],
   "source": [
    "def findRotateSteps(ring: str, key: str) -> int:\n",
    "    from collections import defaultdict\n",
    "\n",
    "    n = len(ring)\n",
    "    m = len(key)\n",
    "\n",
    "    # 记录每个字符在ring中的位置\n",
    "    pos = defaultdict(list)\n",
    "    for i, ch in enumerate(ring):\n",
    "        pos[ch].append(i)\n",
    "\n",
    "    # dp[i][j] 表示拼写到key[i]，且ring[j]对齐到12:00时的最小步数\n",
    "    dp = [[float('inf')] * n for _ in range(m + 1)]\n",
    "    dp[0][0] = 0  # 初始状态，不需要任何操作\n",
    "\n",
    "    for i in range(1, m + 1):  # 遍历每个key字符\n",
    "        for j in pos[key[i - 1]]:  # 遍历当前key字符在ring中的位置\n",
    "            for k in pos[key[i - 2]] if i > 1 else [0]:  # 遍历上一个key字符的位置\n",
    "                # 计算从k位置到j位置的最小步数（顺时针和逆时针）\n",
    "                step = min((j - k) % n, (k - j) % n)\n",
    "                dp[i][j] = min(dp[i][j], dp[i - 1][k] + step + 1)  # +1表示按下中心按钮\n",
    "\n",
    "    # 返回拼完所有字符后，最小的步数\n",
    "    return min(dp[m][j] for j in pos[key[-1]])\n",
    "\n",
    "# 示例测试\n",
    "ring = \"godding\"\n",
    "key = \"gd\"\n",
    "print(findRotateSteps(ring, key))  # 输出: 4\n"
   ]
  },
  {
   "cell_type": "markdown",
   "metadata": {},
   "source": [
    "![](img/2024-09-20-00-59-01.png)"
   ]
  },
  {
   "cell_type": "markdown",
   "metadata": {},
   "source": [
    "![](img/2024-09-20-00-54-59.png)"
   ]
  },
  {
   "cell_type": "code",
   "execution_count": 13,
   "metadata": {},
   "outputs": [
    {
     "name": "stdout",
     "output_type": "stream",
     "text": [
      "4\n"
     ]
    }
   ],
   "source": [
    "from collections import deque, defaultdict\n",
    "\n",
    "def findRotateSteps_BFS(ring: str, key: str) -> int:\n",
    "    n = len(ring)\n",
    "    \n",
    "    # 记录每个字符在ring中的位置\n",
    "    pos = defaultdict(list)\n",
    "    for i, ch in enumerate(ring):\n",
    "        pos[ch].append(i)\n",
    "    \n",
    "    # 队列：每个元素是 (当前指针位置，拼出的字符索引，当前步数)\n",
    "    queue = deque([(0, 0, 0)])\n",
    "    visited = set([(0, 0)])  # 记录访问过的状态 (指针位置，拼出的字符索引)\n",
    "    \n",
    "    while queue:\n",
    "        idx, k, step = queue.popleft()\n",
    "        \n",
    "        # 如果拼出了所有字符，返回当前步数\n",
    "        if k == len(key):\n",
    "            return step\n",
    "        \n",
    "        # 当前要拼的字符\n",
    "        target_char = key[k]\n",
    "        \n",
    "        # 遍历所有ring中target_char的出现位置\n",
    "        for target_idx in pos[target_char]:\n",
    "            # 计算从idx旋转到target_idx的最小步数（顺时针和逆时针）\n",
    "            dist = min((target_idx - idx) % n, (idx - target_idx) % n)\n",
    "            new_step = step + dist + 1  # 按下中心按钮算1步\n",
    "            \n",
    "            # 如果这个状态没有访问过，加入队列\n",
    "            if (target_idx, k + 1) not in visited:\n",
    "                visited.add((target_idx, k + 1))\n",
    "                queue.append((target_idx, k + 1, new_step))\n",
    "\n",
    "# 示例测试\n",
    "ring = \"godding\"\n",
    "key = \"gd\"\n",
    "print(findRotateSteps_BFS(ring, key))  # 输出: 4\n"
   ]
  },
  {
   "cell_type": "code",
   "execution_count": 14,
   "metadata": {},
   "outputs": [
    {
     "name": "stdout",
     "output_type": "stream",
     "text": [
      "4\n"
     ]
    }
   ],
   "source": [
    "def findRotateSteps_DFS(ring: str, key: str) -> int:\n",
    "    n = len(ring)\n",
    "    \n",
    "    # 记录每个字符在ring中的位置\n",
    "    pos = defaultdict(list)\n",
    "    for i, ch in enumerate(ring):\n",
    "        pos[ch].append(i)\n",
    "    \n",
    "    # 记忆化搜索\n",
    "    memo = {}\n",
    "    \n",
    "    def dfs(idx, k):\n",
    "        # 如果拼出了所有字符\n",
    "        if k == len(key):\n",
    "            return 0\n",
    "        \n",
    "        # 如果已经计算过这个状态，直接返回\n",
    "        if (idx, k) in memo:\n",
    "            return memo[(idx, k)]\n",
    "        \n",
    "        target_char = key[k]\n",
    "        res = float('inf')\n",
    "        \n",
    "        # 遍历所有ring中target_char的出现位置\n",
    "        for target_idx in pos[target_char]:\n",
    "            # 计算从idx旋转到target_idx的最小步数（顺时针和逆时针）\n",
    "            dist = min((target_idx - idx) % n, (idx - target_idx) % n)\n",
    "            # 递归计算下一步\n",
    "            res = min(res, dist + 1 + dfs(target_idx, k + 1))  # +1 表示按下按钮\n",
    "        \n",
    "        memo[(idx, k)] = res\n",
    "        return res\n",
    "    \n",
    "    return dfs(0, 0)\n",
    "\n",
    "# 示例测试\n",
    "ring = \"godding\"\n",
    "key = \"gd\"\n",
    "print(findRotateSteps_DFS(ring, key))  # 输出: 4\n"
   ]
  },
  {
   "cell_type": "markdown",
   "metadata": {},
   "source": [
    "![](img/2024-09-20-00-55-34.png)"
   ]
  },
  {
   "cell_type": "markdown",
   "metadata": {},
   "source": [
    "# 三、"
   ]
  }
 ],
 "metadata": {
  "kernelspec": {
   "display_name": "base",
   "language": "python",
   "name": "python3"
  },
  "language_info": {
   "codemirror_mode": {
    "name": "ipython",
    "version": 3
   },
   "file_extension": ".py",
   "mimetype": "text/x-python",
   "name": "python",
   "nbconvert_exporter": "python",
   "pygments_lexer": "ipython3",
   "version": "3.10.9"
  }
 },
 "nbformat": 4,
 "nbformat_minor": 2
}
